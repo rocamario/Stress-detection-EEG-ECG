{
 "cells": [
  {
   "cell_type": "markdown",
   "metadata": {},
   "source": [
    "# IFAC 2024 : Unsupervised features"
   ]
  },
  {
   "cell_type": "markdown",
   "metadata": {},
   "source": [
    "## Libraries\n",
    "We start by importing the necessary libraries for data processing, visualization, and feature extraction."
   ]
  },
  {
   "cell_type": "code",
   "execution_count": 7,
   "metadata": {},
   "outputs": [],
   "source": [
    "import scipy.io\n",
    "import matplotlib.pyplot as plt\n",
    "import neurokit2 as nk\n",
    "import pandas as pd\n",
    "import os\n",
    "import numpy as np\n",
    "from utility import time_hour, find_first\n"
   ]
  },
  {
   "cell_type": "markdown",
   "metadata": {},
   "source": [
    "## Load and pre-process signals\n",
    "We load the target data and the corrected markers, then process each file to segment the signals based on the markers."
   ]
  },
  {
   "cell_type": "code",
   "execution_count": 8,
   "metadata": {},
   "outputs": [
    {
     "name": "stderr",
     "output_type": "stream",
     "text": [
      "/var/folders/gl/css3yr3559x6r9nrv6z186zm0000gn/T/ipykernel_97300/3040076618.py:4: FutureWarning: A value is trying to be set on a copy of a DataFrame or Series through chained assignment using an inplace method.\n",
      "The behavior will change in pandas 3.0. This inplace method will never work because the intermediate object on which we are setting values always behaves as a copy.\n",
      "\n",
      "For example, when doing 'df[col].method(value, inplace=True)', try using 'df.method({col: value}, inplace=True)' or df[col] = df[col].method(value) instead, to perform the operation inplace on the original object.\n",
      "\n",
      "\n",
      "  target['CONDITION'].replace(['TF1', 'TF2', 'TF3', 'OUT4', 'OUT5', 'OUT6'], [11, 12, 13, 14, 15, 16], inplace=True)\n",
      "/var/folders/gl/css3yr3559x6r9nrv6z186zm0000gn/T/ipykernel_97300/3040076618.py:4: FutureWarning: Downcasting behavior in `replace` is deprecated and will be removed in a future version. To retain the old behavior, explicitly call `result.infer_objects(copy=False)`. To opt-in to the future behavior, set `pd.set_option('future.no_silent_downcasting', True)`\n",
      "  target['CONDITION'].replace(['TF1', 'TF2', 'TF3', 'OUT4', 'OUT5', 'OUT6'], [11, 12, 13, 14, 15, 16], inplace=True)\n",
      "/var/folders/gl/css3yr3559x6r9nrv6z186zm0000gn/T/ipykernel_97300/3812004097.py:25: DeprecationWarning: datetime.datetime.utcfromtimestamp() is deprecated and scheduled for removal in a future version. Use timezone-aware objects to represent datetimes in UTC: datetime.datetime.fromtimestamp(timestamp, datetime.UTC).\n",
      "  dt_obj = datetime.utcfromtimestamp(timestamp[0])\n"
     ]
    }
   ],
   "source": [
    "# Load the target data\n",
    "target = pd.read_csv(\"DATA_PASS.csv\")\n",
    "target = target.dropna()\n",
    "target['CONDITION'].replace(['TF1', 'TF2', 'TF3', 'OUT4', 'OUT5', 'OUT6'], [11, 12, 13, 14, 15, 16], inplace=True)\n",
    "\n",
    "# Get unique participant numbers\n",
    "part = target[\"Participant Number\"].unique()\n",
    "\n",
    "# Load corrected markers\n",
    "markers_corrected = pd.read_csv(\"correctedMarkers.csv\")\n",
    "part_un = markers_corrected[\"Participant\"].unique()\n",
    "\n",
    "# Find common participants\n",
    "part_markcorr = np.intersect1d(part, part_un)\n",
    "\n",
    "# Initialize dictionary to store signals for each participant\n",
    "part_signals = {}\n",
    "\n",
    "# Process each file\n",
    "files = os.listdir(\"PASS_BH3/\")\n",
    "for f in files:\n",
    "    participant_number = int(f[:4])\n",
    "    if participant_number in part_markcorr:\n",
    "        # Load signal\n",
    "        signal = scipy.io.loadmat(f\"PASS_BH3/{f}\")['data_eeg']\n",
    "        sig_fil = nk.ecg_clean(signal, sampling_rate=250, method='vg')\n",
    "\n",
    "        # Load timestamps\n",
    "        time = scipy.io.loadmat(f\"PASS_BH3_metdat/{f[:4]}_time{f[4:]}\")['data_markers']\n",
    "        timestamps = list(time[:])\n",
    "        time_vct = time_hour(timestamps)\n",
    "\n",
    "        # Get corrected markers\n",
    "        time_p = markers_corrected.loc[markers_corrected['Participant'] == participant_number, 'timestamp'].values\n",
    "        status_p = markers_corrected.loc[markers_corrected['Participant'] == participant_number, 'Status'].values\n",
    "\n",
    "        # Find first occurrences of timestamps\n",
    "        first_occ = find_first(time_vct, time_p)\n",
    "\n",
    "        # Segment the signals based on markers\n",
    "        segments = {}\n",
    "        for start, end, status in zip(first_occ[:-1], first_occ[1:], status_p):\n",
    "            segment = sig_fil[start:end]\n",
    "            if status not in segments:\n",
    "                segments[status] = []\n",
    "            segments[status].append(segment)\n",
    "\n",
    "        # Store segments for the participant\n",
    "        part_signals[f[:6]] = segments"
   ]
  },
  {
   "cell_type": "markdown",
   "metadata": {},
   "source": [
    "## Save the segmented signals\n",
    "We save the segmented signals to a file called `ecg_signals.npy`."
   ]
  },
  {
   "cell_type": "code",
   "execution_count": 9,
   "metadata": {},
   "outputs": [],
   "source": [
    "# Save the segmented signals\n",
    "np.save(\"../Data/ecg_signals.npy\", part_signals)"
   ]
  },
  {
   "cell_type": "markdown",
   "metadata": {},
   "source": [
    "## Visualization\n",
    "We plot an example of the first segmented signal for visualization purposes."
   ]
  },
  {
   "cell_type": "code",
   "execution_count": 10,
   "metadata": {},
   "outputs": [
    {
     "data": {
      "image/png": "[encoded data removed]",
      "text/plain": [
       "<Figure size 640x480 with 1 Axes>"
      ]
     },
     "metadata": {},
     "output_type": "display_data"
    }
   ],
   "source": [
    "# Example plot of the first segmented signal\n",
    "plt.plot(part_signals[list(part_signals.keys())[0]][list(part_signals[list(part_signals.keys())[0]].keys())[0]][0])\n",
    "plt.show()"
   ]
  },
  {
   "cell_type": "code",
   "execution_count": null,
   "metadata": {},
   "outputs": [],
   "source": []
  }
 ],
 "metadata": {
  "kernelspec": {
   "display_name": "local-env",
   "language": "python",
   "name": "python3"
  },
  "language_info": {
   "codemirror_mode": {
    "name": "ipython",
    "version": 3
   },
   "file_extension": ".py",
   "mimetype": "text/x-python",
   "name": "python",
   "nbconvert_exporter": "python",
   "pygments_lexer": "ipython3",
   "version": "3.12.6"
  }
 },
 "nbformat": 4,
 "nbformat_minor": 4
}
