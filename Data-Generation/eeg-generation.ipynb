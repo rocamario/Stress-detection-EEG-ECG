{
 "cells": [
  {
   "cell_type": "markdown",
   "metadata": {},
   "source": [
    "## Libraries"
   ]
  },
  {
   "cell_type": "code",
   "execution_count": 3,
   "metadata": {},
   "outputs": [],
   "source": [
    "import scipy.io\n",
    "import matplotlib.pyplot as plt\n",
    "import neurokit2 as nk\n",
    "import pandas as pd\n",
    "import os\n",
    "import numpy as np\n",
    "\n",
    "from utils import find_first, time_hour"
   ]
  },
  {
   "cell_type": "code",
   "execution_count": 7,
   "metadata": {},
   "outputs": [
    {
     "name": "stdout",
     "output_type": "stream",
     "text": [
      "Files in PASS_MUSE directory: ['2137_1.mat', '2113_1.mat', '2111_1.mat', '2135_1.mat', '2108_1.mat', '2131_1.mat', '2115_1.mat', '2117_1.mat', '2131_2.mat', '2133_1.mat', '2110_1.mat', '2109_1.mat', '2134_1.mat', '2136_1.mat', '2112_1.mat', '2116_1.mat', '2132_1.mat', '2148_1.mat', '2130_1.mat', '2114_1.mat', '2129_1.mat', '2103_2.mat', '2125_1.mat', '2118_1.mat', '2144_1.mat', '2103_3.mat', '2146_1.mat', '2103_1.mat', '2144_3.mat', '2144_2.mat', '2127_1.mat', '2123_1.mat', '2142_1.mat', '2107_1.mat', '2138_1.mat', '2144_5.mat', '2140_1.mat', '2105_1.mat', '2121_1.mat', '2144_4.mat', '2124_2.mat', '2102_1.mat', '2147_1.mat', '2126_1.mat', '2143_4.mat', '2119_1.mat', '2124_1.mat', '2145_1.mat', '2104_1.mat', '2141_1.mat', '2143_3.mat', '2139_1.mat', '2143_2.mat', '2120_1.mat', '2104_2.mat', '2122_1.mat', '2106_1.mat', '2143_1.mat']\n",
      "First few rows of corrected markers data:\n",
      "             timestamp  Status  Participant\n",
      "0  2017-03-03 09:20:59      10         2101\n",
      "1  2017-03-03 09:23:26      20         2101\n",
      "2  2017-03-03 09:26:06      11         2101\n",
      "3  2017-03-03 09:35:49      21         2101\n",
      "4  2017-03-03 09:44:58      10         2101\n",
      "Unique participants in corrected markers data: [2101 2102 2104 2105 2106 2107 2108 2109 2110 2111 2112 2113 2114 2115\n",
      " 2116 2117 2118 2119 2120 2121 2122 2123 2124 2125 2126 2127 2129 2130\n",
      " 2131 2132 2133 2134 2136]\n",
      "Unique participants in target data: [2104 2105 2106 2107 2108 2109 2110 2111 2112 2113 2114 2115 2116 2117\n",
      " 2119 2120 2121 2122 2123 2124 2125 2126 2127 2129 2130 2131 2132 2133\n",
      " 2134 2135 2136 2137 2317 2138 2139 2140 2141 2142 2145 2147 2148]\n",
      "Participants present in both datasets: [2104 2105 2106 2107 2108 2109 2110 2111 2112 2113 2114 2115 2116 2117\n",
      " 2119 2120 2121 2122 2123 2124 2125 2126 2127 2129 2130 2131 2132 2133\n",
      " 2134 2136]\n"
     ]
    }
   ],
   "source": [
    "# List all files in the \"PASS_MUSE\" directory\n",
    "files = os.listdir(\"PASS_MUSE/\")\n",
    "print(\"Files in PASS_MUSE directory:\", files)\n",
    "\n",
    "# Load the corrected markers data\n",
    "markers_corrected = pd.read_csv(\"correctedMarkers.csv\")\n",
    "print(\"First few rows of corrected markers data:\")\n",
    "print(markers_corrected.head())\n",
    "\n",
    "# Get unique participants from the corrected markers data\n",
    "part_un = markers_corrected[\"Participant\"].unique()\n",
    "print(\"Unique participants in corrected markers data:\", part_un)\n",
    "\n",
    "# Load the target data and drop rows with missing values\n",
    "target = pd.read_csv(\"DATA_PASS.csv\")\n",
    "target = target.dropna()\n",
    "\n",
    "# Get unique participants from the target data\n",
    "part = target[\"Participant Number\"].unique()\n",
    "print(\"Unique participants in target data:\", part)\n",
    "\n",
    "# Find the intersection of participants in both datasets\n",
    "part_markcorr = np.intersect1d(part, part_un)\n",
    "print(\"Participants present in both datasets:\", part_markcorr)"
   ]
  },
  {
   "cell_type": "code",
   "execution_count": 6,
   "metadata": {},
   "outputs": [
    {
     "name": "stdout",
     "output_type": "stream",
     "text": [
      "[2101 2102 2104 2105 2106 2107 2108 2109 2110 2111 2112 2113 2114 2115\n",
      " 2116 2117 2118 2119 2120 2121 2122 2123 2124 2125 2126 2127 2129 2130\n",
      " 2131 2132 2133 2134 2136]\n",
      "[2104 2105 2106 2107 2108 2109 2110 2111 2112 2113 2114 2115 2116 2117\n",
      " 2119 2120 2121 2122 2123 2124 2125 2126 2127 2129 2130 2131 2132 2133\n",
      " 2134 2135 2136 2137 2317 2138 2139 2140 2141 2142 2145 2147 2148]\n",
      "[2104 2105 2106 2107 2108 2109 2110 2111 2112 2113 2114 2115 2116 2117\n",
      " 2119 2120 2121 2122 2123 2124 2125 2126 2127 2129 2130 2131 2132 2133\n",
      " 2134 2136]\n"
     ]
    }
   ],
   "source": []
  },
  {
   "cell_type": "code",
   "execution_count": null,
   "metadata": {},
   "outputs": [],
   "source": []
  }
 ],
 "metadata": {
  "kernelspec": {
   "display_name": "local-env",
   "language": "python",
   "name": "python3"
  },
  "language_info": {
   "codemirror_mode": {
    "name": "ipython",
    "version": 3
   },
   "file_extension": ".py",
   "mimetype": "text/x-python",
   "name": "python",
   "nbconvert_exporter": "python",
   "pygments_lexer": "ipython3",
   "version": "3.12.6"
  }
 },
 "nbformat": 4,
 "nbformat_minor": 4
}
