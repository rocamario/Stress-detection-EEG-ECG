{
 "cells": [
  {
   "cell_type": "markdown",
   "metadata": {},
   "source": [
    "Author: Mario Roca"
   ]
  },
  {
   "cell_type": "code",
   "execution_count": 1,
   "metadata": {},
   "outputs": [],
   "source": [
    "import numpy as np"
   ]
  },
  {
   "cell_type": "markdown",
   "metadata": {},
   "source": [
    "## Explore npy structures (recursive)"
   ]
  },
  {
   "cell_type": "code",
   "execution_count": 2,
   "metadata": {},
   "outputs": [],
   "source": [
    "def explore_structure(data, level=0):\n",
    "    indent = \"  \" * level\n",
    "    if isinstance(data, dict):\n",
    "        print(f\"{indent}Dict with keys: {list(data.keys())}\")\n",
    "        for key, value in data.items():\n",
    "            print(f\"{indent}Exploring key '{key}':\")\n",
    "            explore_structure(value, level + 1)\n",
    "    elif isinstance(data, list):\n",
    "        print(f\"{indent}List of {len(data)} items\")\n",
    "        for i, item in enumerate(data[:3]):  # Limit to first 3 items for brevity\n",
    "            print(f\"{indent}Exploring list item {i}:\")\n",
    "            explore_structure(item, level + 1)\n",
    "    elif isinstance(data, np.ndarray):\n",
    "        print(f\"{indent}Array with shape {data.shape} and dtype {data.dtype}\")\n",
    "        print(f\"{indent}Content (first element): {data.ravel()[:4]}\")  # Display first few elements\n",
    "    else:\n",
    "        print(f\"{indent}{type(data)}: {data}\")"
   ]
  },
  {
   "cell_type": "code",
   "execution_count": 10,
   "metadata": {},
   "outputs": [],
   "source": [
    "# Load the EEG signals file\n",
    "eeg_signals = np.load(\"eeg_signals.npy\", allow_pickle=True).item()\n",
    "\n",
    "# explore_structure(eeg_signals)"
   ]
  },
  {
   "cell_type": "code",
   "execution_count": 9,
   "metadata": {},
   "outputs": [],
   "source": [
    "# The data structure is a nested dictionary with the following hierarchy:\n",
    "# \n",
    "# 1. The outermost dictionary has keys representing patient IDs or identifiers (e.g., '2113_1', '2111_1').\n",
    "# 2. Each patient ID maps to a dictionary containing different statuses or conditions (e.g., '10', '20', '14').\n",
    "# 3. Each status key maps to a NumPy array.\n",
    "# 4. These NumPy arrays have shapes indicating the number of samples and channels (e.g., (11917, 4) means 11917 samples and 4 channels).\n",
    "# 5. The arrays contain EEG signal data with dtype float64.\n",
    "# \n",
    "# Example structure:\n",
    "# {\n",
    "#     '2113_1': {},\n",
    "#     '2111_1': {\n",
    "#         '10': array with shape (11917, 4),\n",
    "#         '20': array with shape (138142, 4)\n",
    "#     },\n",
    "#     '2108_1': {\n",
    "#         '10': array with shape (27510, 4),\n",
    "#         '20': array with shape (5289, 4),\n",
    "#         '14': array with shape (129387, 4)\n",
    "#     },\n",
    "#     ...\n",
    "# }\n",
    "# \n",
    "# Usage:\n",
    "# - The outermost dictionary allows access to data for each patient.\n",
    "# - For each patient, the dictionary contains different statuses.\n",
    "# - Each status key maps to a NumPy array of EEG signal data.\n",
    "# - The arrays can be accessed and processed for feature extraction, analysis, or modeling.\n"
   ]
  },
  {
   "cell_type": "code",
   "execution_count": 11,
   "metadata": {},
   "outputs": [],
   "source": [
    "# Load the ECG signals file\n",
    "ecg_signals = np.load(\"ecg_signals.npy\", allow_pickle=True).item()\n",
    "\n",
    "# explore_structure(ecg_signals)"
   ]
  },
  {
   "cell_type": "code",
   "execution_count": null,
   "metadata": {},
   "outputs": [],
   "source": [
    "# The data structure is a nested dictionary with the following hierarchy:\n",
    "# \n",
    "# 1. The outermost dictionary has keys representing patient IDs or identifiers (e.g., '2113_1', '2111_1').\n",
    "# 2. Each patient ID maps to a dictionary containing different statuses or conditions (e.g., '10', '20', '14').\n",
    "# 3. Each status key maps to a NumPy array.\n",
    "# 4. These NumPy arrays have shapes indicating the number of samples and channels (e.g., (13482, 1) means 13482 samples and 1 channel).\n",
    "# 5. The arrays contain ECG signal data with dtype uint16.\n",
    "# \n",
    "# Example structure:\n",
    "# {\n",
    "#     '2113_1': {},\n",
    "#     '2111_1': {\n",
    "#         '10': array with shape (13482, 1),\n",
    "#         '20': array with shape (156807, 1)\n",
    "#     },\n",
    "#     '2108_1': {\n",
    "#         '10': array with shape (31248, 1),\n",
    "#         '20': array with shape (5985, 1),\n",
    "#         '14': array with shape (147042, 1)\n",
    "#     },\n",
    "#     ...\n",
    "# }\n",
    "# \n",
    "# Usage:\n",
    "# - The outermost dictionary allows access to data for each patient.\n",
    "# - For each patient, the dictionary contains different statuses.\n",
    "# - Each status key maps to a NumPy array of ECG signal data.\n",
    "# - The arrays can be accessed and processed for feature extraction, analysis, or modeling.\n"
   ]
  },
  {
   "cell_type": "code",
   "execution_count": null,
   "metadata": {},
   "outputs": [],
   "source": []
  }
 ],
 "metadata": {
  "kernelspec": {
   "display_name": "local-env",
   "language": "python",
   "name": "python3"
  },
  "language_info": {
   "codemirror_mode": {
    "name": "ipython",
    "version": 3
   },
   "file_extension": ".py",
   "mimetype": "text/x-python",
   "name": "python",
   "nbconvert_exporter": "python",
   "pygments_lexer": "ipython3",
   "version": "3.12.6"
  }
 },
 "nbformat": 4,
 "nbformat_minor": 2
}
